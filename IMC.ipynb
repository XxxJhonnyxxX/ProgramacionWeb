{
  "nbformat": 4,
  "nbformat_minor": 0,
  "metadata": {
    "colab": {
      "provenance": [],
      "include_colab_link": true
    },
    "kernelspec": {
      "name": "python3",
      "display_name": "Python 3"
    },
    "language_info": {
      "name": "python"
    }
  },
  "cells": [
    {
      "cell_type": "markdown",
      "metadata": {
        "id": "view-in-github",
        "colab_type": "text"
      },
      "source": [
        "<a href=\"https://colab.research.google.com/github/XxxJhonnyxxX/ProgramacionWeb/blob/main/IMC.ipynb\" target=\"_parent\"><img src=\"https://colab.research.google.com/assets/colab-badge.svg\" alt=\"Open In Colab\"/></a>"
      ]
    },
    {
      "cell_type": "markdown",
      "source": [
        "## Cálculo del indice de la masa corporal"
      ],
      "metadata": {
        "id": "OwRzpGYwGLde"
      }
    },
    {
      "cell_type": "code",
      "execution_count": 1,
      "metadata": {
        "colab": {
          "base_uri": "https://localhost:8080/"
        },
        "id": "Jc7jAYkZGIxT",
        "outputId": "7b6e9b93-20e5-439f-b7ae-000fc2882050"
      },
      "outputs": [
        {
          "output_type": "stream",
          "name": "stdout",
          "text": [
            "23.437499999999996\n"
          ]
        }
      ],
      "source": [
        "#@title Cálculo del IMC { run: \"auto\" }\n",
        "estatura = 1.60 #@param {type:\"number\"}\n",
        "peso = 60 #@param {type:\"number\"}\n",
        "imc=peso/estatura**2\n",
        "print(imc)\n"
      ]
    },
    {
      "cell_type": "markdown",
      "source": [],
      "metadata": {
        "id": "przfrtoJGKRx"
      }
    }
  ]
}